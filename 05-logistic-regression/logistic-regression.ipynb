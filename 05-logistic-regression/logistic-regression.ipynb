{
 "cells": [
  {
   "cell_type": "code",
   "execution_count": 1,
   "metadata": {
    "collapsed": true
   },
   "outputs": [],
   "source": [
    "%matplotlib inline \n",
    "\n",
    "import numpy as np\n",
    "import pandas as pd\n",
    "from sklearn import linear_model\n",
    "import sklearn.metrics as metrics\n",
    "from sklearn import preprocessing\n",
    "import matplotlib.pyplot as plt"
   ]
  },
  {
   "cell_type": "code",
   "execution_count": 6,
   "metadata": {
    "collapsed": true
   },
   "outputs": [],
   "source": [
    "def run():\n",
    "    num_features = 4\n",
    "    \n",
    "    # capture the data\n",
    "    data = pd.read_csv('iris_dataset.csv', header=None)\n",
    "    # removing the header\n",
    "    data = data[1:]\n",
    "    \n",
    "    x_values = data[range(num_features)]\n",
    "    y_values = data[4]\n",
    "    \n",
    "    # transforming classes to values\n",
    "    LE = preprocessing.LabelEncoder()\n",
    "    LE.fit(y_values)\n",
    "    y_values = LE.transform(y_values)\n",
    "    \n",
    "    # fiiting the data for logistic regression\n",
    "    model = linear_model.LogisticRegression()\n",
    "    model.fit(x_values, y_values)\n",
    "    \n",
    "    # predict evaluation\n",
    "    y_predict = model.predict(x_values)\n",
    "    accuracy = metrics.accuracy_score(y_values, y_predict)\n",
    "    print \"Accuracy Score = {0}%\".format(accuracy*100)\n",
    "\n",
    "    # visualize the results\n",
    "    plt.scatter(x_values[0], y_values, color='red')\n",
    "    plt.scatter(x_values[0], y_predict, color='blue')\n",
    "    plt.show()"
   ]
  },
  {
   "cell_type": "code",
   "execution_count": 7,
   "metadata": {
    "collapsed": false
   },
   "outputs": [
    {
     "name": "stdout",
     "output_type": "stream",
     "text": [
      "Accuracy Score = 96.0%\n"
     ]
    },
    {
     "data": {
      "image/png": "[encoded data removed]",
      "text/plain": [
       "<matplotlib.figure.Figure at 0x10d636050>"
      ]
     },
     "metadata": {},
     "output_type": "display_data"
    }
   ],
   "source": [
    "if __name__ == '__main__':\n",
    "    run()"
   ]
  },
  {
   "cell_type": "code",
   "execution_count": null,
   "metadata": {
    "collapsed": true
   },
   "outputs": [],
   "source": []
  }
 ],
 "metadata": {
  "kernelspec": {
   "display_name": "Python 2",
   "language": "python",
   "name": "python2"
  },
  "language_info": {
   "codemirror_mode": {
    "name": "ipython",
    "version": 2
   },
   "file_extension": ".py",
   "mimetype": "text/x-python",
   "name": "python",
   "nbconvert_exporter": "python",
   "pygments_lexer": "ipython2",
   "version": "2.7.10"
  }
 },
 "nbformat": 4,
 "nbformat_minor": 1
}
