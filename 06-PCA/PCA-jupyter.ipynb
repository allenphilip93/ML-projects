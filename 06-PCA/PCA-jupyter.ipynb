{
 "cells": [
  {
   "cell_type": "code",
   "execution_count": 169,
   "metadata": {
    "collapsed": false
   },
   "outputs": [],
   "source": [
    "%matplotlib inline\n",
    "\n",
    "import numpy as np\n",
    "from sklearn import decomposition\n",
    "from sklearn import datasets\n",
    "import matplotlib.pyplot as plt\n",
    "\n",
    "from sklearn import linear_model\n",
    "import sklearn.metrics as metrics\n",
    "from sklearn import preprocessing"
   ]
  },
  {
   "cell_type": "code",
   "execution_count": 170,
   "metadata": {
    "collapsed": true
   },
   "outputs": [],
   "source": [
    "# no of PCA dimensions\n",
    "n_dims = 3\n",
    "\n",
    "iris = datasets.load_iris()\n",
    "x = iris.data[:, :n_dims+1]\n",
    "y = iris.target"
   ]
  },
  {
   "cell_type": "code",
   "execution_count": 171,
   "metadata": {
    "collapsed": true
   },
   "outputs": [],
   "source": [
    "# normalize the data\n",
    "dist = x.max(axis=0) - x.min(axis=0)\n",
    "x_norm = (x - x.mean(axis=0))/dist"
   ]
  },
  {
   "cell_type": "code",
   "execution_count": 172,
   "metadata": {
    "collapsed": false
   },
   "outputs": [],
   "source": [
    "# transforming classes to values\n",
    "LE = preprocessing.LabelEncoder()\n",
    "LE.fit(y)\n",
    "y = LE.transform(y)"
   ]
  },
  {
   "cell_type": "code",
   "execution_count": 173,
   "metadata": {
    "collapsed": false
   },
   "outputs": [
    {
     "name": "stdout",
     "output_type": "stream",
     "text": [
      "Accuracy Score without PCA and 3 dimensions = 82.0%\n"
     ]
    }
   ],
   "source": [
    "x_without_pca = x_norm[:,:n_dims]\n",
    "\n",
    "# fiiting the data for logistic regression\n",
    "model = linear_model.LogisticRegression()\n",
    "model.fit(x_without_pca, y)\n",
    "\n",
    "# predict evaluation\n",
    "y_predict = model.predict(x_without_pca)\n",
    "accuracy = metrics.accuracy_score(y, y_predict)\n",
    "print \"Accuracy Score without PCA and {0} dimensions = {1}%\".format(n_dims, accuracy*100)"
   ]
  },
  {
   "cell_type": "code",
   "execution_count": 174,
   "metadata": {
    "collapsed": false
   },
   "outputs": [],
   "source": [
    "pca_model = decomposition.PCA(n_dims)\n",
    "pca_model.fit(x_norm)\n",
    "x_transformed = pca_model.transform(x_norm)"
   ]
  },
  {
   "cell_type": "code",
   "execution_count": 175,
   "metadata": {
    "collapsed": false
   },
   "outputs": [
    {
     "name": "stdout",
     "output_type": "stream",
     "text": [
      "Accuracy Score with PCA and 3 dimensions = 88.6666666667%\n"
     ]
    },
    {
     "data": {
      "image/png": "[encoded data removed]",
      "text/plain": [
       "<matplotlib.figure.Figure at 0x10df27490>"
      ]
     },
     "metadata": {},
     "output_type": "display_data"
    }
   ],
   "source": [
    "# fiiting the data for logistic regression\n",
    "model = linear_model.LogisticRegression()\n",
    "model.fit(x_transformed, y)\n",
    "\n",
    "# predict evaluation\n",
    "y_predict = model.predict(x_transformed)\n",
    "accuracy = metrics.accuracy_score(y, y_predict)\n",
    "print \"Accuracy Score with PCA and {0} dimensions = {1}%\".format(n_dims, accuracy*100)\n",
    "\n",
    "# visualize the results\n",
    "plt.scatter(x_transformed[:,0], y, color='red')\n",
    "plt.scatter(x_transformed[:,0], y_predict, color='blue')\n",
    "plt.show()"
   ]
  },
  {
   "cell_type": "code",
   "execution_count": null,
   "metadata": {
    "collapsed": true
   },
   "outputs": [],
   "source": []
  }
 ],
 "metadata": {
  "kernelspec": {
   "display_name": "Python 2",
   "language": "python",
   "name": "python2"
  },
  "language_info": {
   "codemirror_mode": {
    "name": "ipython",
    "version": 2
   },
   "file_extension": ".py",
   "mimetype": "text/x-python",
   "name": "python",
   "nbconvert_exporter": "python",
   "pygments_lexer": "ipython2",
   "version": "2.7.10"
  }
 },
 "nbformat": 4,
 "nbformat_minor": 1
}
